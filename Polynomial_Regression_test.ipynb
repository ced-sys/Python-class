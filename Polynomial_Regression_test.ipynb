{
  "nbformat": 4,
  "nbformat_minor": 0,
  "metadata": {
    "colab": {
      "provenance": [],
      "authorship_tag": "ABX9TyNhRECvZ6Ycgipvt0J8tPxt",
      "include_colab_link": true
    },
    "kernelspec": {
      "name": "python3",
      "display_name": "Python 3"
    },
    "language_info": {
      "name": "python"
    }
  },
  "cells": [
    {
      "cell_type": "markdown",
      "metadata": {
        "id": "view-in-github",
        "colab_type": "text"
      },
      "source": [
        "<a href=\"https://colab.research.google.com/github/ced-sys/Python-class/blob/main/Polynomial_Regression_test.ipynb\" target=\"_parent\"><img src=\"https://colab.research.google.com/assets/colab-badge.svg\" alt=\"Open In Colab\"/></a>"
      ]
    },
    {
      "cell_type": "markdown",
      "source": [
        "## Import libraries and tools\n",
        "* `numpy`: Used for mathematical annotations and calculations used in generating the samples.\n",
        "\n",
        "* `pandas`: Creates a DataFrame that are used forhandlin te CSV files.\n",
        "\n",
        "* `matplotlib.pyplot`: Provides an interface for basic visualizatio.\n",
        "\n",
        "* `PolynomialFeatures`: Exports a scikit-learn model that is used to model the polynomial classification model..\n",
        "\n",
        "* `LinearRegression`: Exports  a scikit-learn model Linear regression, to do the linear regression analysis.\n",
        "\n",
        "* `mean_squared_error`, `r2_score`: Provides the evaluation metrics for the Machine learning model.\n",
        "\n",
        "* `train_test_split`: Splits the dataset into trainingand testing sets for the model."
      ],
      "metadata": {
        "id": "220qm0px_xpv"
      }
    },
    {
      "cell_type": "code",
      "execution_count": null,
      "metadata": {
        "id": "KRs31up2SaOG"
      },
      "outputs": [],
      "source": [
        "import numpy as np\n",
        "import pandas as pd\n",
        "import matplotlib.pyplot as plt\n",
        "from sklearn.preprocessing import PolynomialFeatures\n",
        "from sklearn.linear_model import LinearRegression\n",
        "from sklearn.metrics import mean_squared_error, r2_score\n",
        "from sklearn.model_selection import train_test_split"
      ]
    },
    {
      "cell_type": "code",
      "source": [
        "np.random.seed(42)"
      ],
      "metadata": {
        "id": "26RmpwYRTA38"
      },
      "execution_count": null,
      "outputs": []
    },
    {
      "cell_type": "code",
      "source": [
        "n_samples=200\n",
        "depths=np.sort(np.random.uniform(0, 5000, n_samples))"
      ],
      "metadata": {
        "id": "L14XkrvmTDXe"
      },
      "execution_count": null,
      "outputs": []
    },
    {
      "cell_type": "code",
      "source": [
        "a=40\n",
        "b=0.0008\n",
        "c=5"
      ],
      "metadata": {
        "id": "TazF8W3PTK_w"
      },
      "execution_count": null,
      "outputs": []
    },
    {
      "cell_type": "code",
      "source": [
        "base_porosity=a*np.exp(-b*depths)+c"
      ],
      "metadata": {
        "id": "_QV083VyTPfE"
      },
      "execution_count": null,
      "outputs": []
    },
    {
      "cell_type": "code",
      "source": [
        "overpressure_mask=(depths>2000)&(depths<3000)\n",
        "base_porosity[overpressure_mask]+=5*np.sin((depths[overpressure_mask]-2000)*np.pi/1000)"
      ],
      "metadata": {
        "id": "xZCc65n8TUF0"
      },
      "execution_count": null,
      "outputs": []
    },
    {
      "cell_type": "code",
      "source": [
        "base_porosity+=0.0000005*(depths-2500)**2"
      ],
      "metadata": {
        "id": "zqwY0r05Tk7h"
      },
      "execution_count": null,
      "outputs": []
    },
    {
      "cell_type": "code",
      "source": [
        "noise_level=3.0\n",
        "noise=np.random.normal(0, noise_level, n_samples)\n",
        "porosity=base_porosity+noise"
      ],
      "metadata": {
        "id": "dZSZ7K0MTs_M"
      },
      "execution_count": null,
      "outputs": []
    },
    {
      "cell_type": "code",
      "source": [
        "porosity=np.clip(porosity, 0, 50)"
      ],
      "metadata": {
        "id": "JvmkN0stT5WC"
      },
      "execution_count": null,
      "outputs": []
    },
    {
      "cell_type": "code",
      "source": [
        "data=pd.DataFrame({\n",
        "    'depth': depths,\n",
        "    'porosity':porosity\n",
        "})"
      ],
      "metadata": {
        "id": "gQq2uAUcT90F"
      },
      "execution_count": null,
      "outputs": []
    },
    {
      "cell_type": "code",
      "source": [
        "lithology=np.random.choice([1,2,3], size=n_samples, p=[0.4, 0.4, 0.2])\n",
        "data['lithology']=lithology"
      ],
      "metadata": {
        "id": "b2R_Fp7iUEY7"
      },
      "execution_count": null,
      "outputs": []
    },
    {
      "cell_type": "code",
      "source": [
        "data.loc[data['lithology']==1, 'porosity']*=1.1\n",
        "data.loc[data['lithology']==2, 'porosity']*=0.9\n",
        "data.loc[data['lithology']==3, 'porosity']*=1.0"
      ],
      "metadata": {
        "id": "L6bTfT_nUSAK"
      },
      "execution_count": null,
      "outputs": []
    },
    {
      "cell_type": "code",
      "source": [
        "data['temp_gradient']=25+np.random.normal(0, 3, n_samples)"
      ],
      "metadata": {
        "id": "hJapPOhfUqtt"
      },
      "execution_count": null,
      "outputs": []
    },
    {
      "cell_type": "code",
      "source": [
        "data['temperature']=15+data['depth']*data['temp_gradient']/1000"
      ],
      "metadata": {
        "id": "3Jzs1TLEUzYG"
      },
      "execution_count": null,
      "outputs": []
    },
    {
      "cell_type": "code",
      "source": [
        "data['age']=50+np.random.normal(0, 15, n_samples)"
      ],
      "metadata": {
        "id": "rvVSECjWU7Fn"
      },
      "execution_count": null,
      "outputs": []
    },
    {
      "cell_type": "code",
      "source": [
        "data['permeability']=0.1*(data['porosity']**2.5)*np.exp(np.random.normal(0, 0.5, n_samples))"
      ],
      "metadata": {
        "id": "J4671egFVCCF"
      },
      "execution_count": null,
      "outputs": []
    },
    {
      "cell_type": "code",
      "source": [
        "data['quartz_content']=40+20*np.random.random(n_samples)\n",
        "data['clay_content']=30+15*np.random.random(n_samples)\n",
        "data['carbonate_content']=100-data['quartz_content']-data['clay_content']\n",
        "data['carbonate_content']=np.clip(data['carbonate_content'], 0, 100)"
      ],
      "metadata": {
        "id": "mprmhWtcVPfh"
      },
      "execution_count": null,
      "outputs": []
    },
    {
      "cell_type": "code",
      "source": [
        "data['location_id']=np.random.randint(1, 6, size=n_samples)"
      ],
      "metadata": {
        "id": "SawII2BsV2n5"
      },
      "execution_count": null,
      "outputs": []
    },
    {
      "cell_type": "code",
      "source": [
        "data.to_csv('geological_porosity_data.csv', index=False)"
      ],
      "metadata": {
        "id": "VM4BELgQWAjH"
      },
      "execution_count": null,
      "outputs": []
    }
  ]
}